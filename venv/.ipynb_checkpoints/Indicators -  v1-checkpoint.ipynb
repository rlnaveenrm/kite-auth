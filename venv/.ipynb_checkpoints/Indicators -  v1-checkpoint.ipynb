{
 "cells": [
  {
   "cell_type": "code",
   "execution_count": 1,
   "metadata": {},
   "outputs": [],
   "source": [
    "# preprocessing\n",
    "import math\n",
    "import random\n",
    "import pandas as pd\n",
    "import numpy as np\n",
    "from datetime import date\n",
    "import preprocessing\n",
    "import matplotlib.pyplot as plt \n",
    "from datetime import date"
   ]
  },
  {
   "cell_type": "markdown",
   "metadata": {},
   "source": [
    "Prepare the tool for getting the necessary stock"
   ]
  },
  {
   "cell_type": "code",
   "execution_count": 2,
   "metadata": {},
   "outputs": [
    {
     "name": "stdout",
     "output_type": "stream",
     "text": [
      "('NAME OF COMPANY', 'SYMBOL')\n",
      "('20 Microns Limited', '20MICRONS')\n",
      "('21st Century Management Services Limited', '21STCENMGM')\n",
      "('3i Infotech Limited', '3IINFOTECH')\n",
      "('3M India Limited', '3MINDIA')\n",
      "('3P Land Holdings Limited', '3PLAND')\n",
      "('5Paisa Capital Limited', '5PAISA')\n",
      "('63 moons technologies limited', '63MOONS')\n",
      "('A2Z Infra Engineering Limited', 'A2ZINFRA')\n",
      "('Aarti Drugs Limited', 'AARTIDRUGS')\n",
      "('Aarti Industries Limited', 'AARTIIND')\n",
      "('Aarvee Denims & Exports Limited', 'AARVEEDEN')\n",
      "('Aavas Financiers Limited', 'AAVAS')\n",
      "('Aban Offshore Limited', 'ABAN')\n",
      "('ABB India Limited', 'ABB')\n",
      "('Abbott India Limited', 'ABBOTINDIA')\n",
      "('Aditya Birla Capital Limited', 'ABCAPITAL')\n",
      "('Aditya Birla Fashion and Retail Limited', 'ABFRL')\n",
      "('ABM International Limited', 'ABMINTLTD')\n",
      "('ACC Limited', 'ACC')\n",
      "('Accelya Solutions India Limited', 'ACCELYA')\n",
      "('Action Construction Equipment Limited', 'ACE')\n",
      "('Adani Enterprises Limited', 'ADANIENT')\n",
      "('Adani Gas Limited', 'ADANIGAS')\n",
      "('Adani Green Energy Limited', 'ADANIGREEN')\n",
      "('Adani Ports and Special Economic Zone Limited', 'ADANIPORTS')\n",
      "('Adani Power Limited', 'ADANIPOWER')\n",
      "('Adani Transmission Limited', 'ADANITRANS')\n",
      "('ADF Foods Limited', 'ADFFOODS')\n",
      "('Adhunik Industries Limited', 'ADHUNIKIND')\n",
      "('Ador Welding Limited', 'ADORWELD')\n",
      "('Adroit Infotech Limited', 'ADROITINFO')\n",
      "('Allied Digital Services Limited', 'ADSL')\n",
      "('Advani Hotels & Resorts (India) Limited', 'ADVANIHOTR')\n",
      "('Advanced Enzyme Technologies Limited', 'ADVENZYMES')\n",
      "('Aegis Logistics Limited', 'AEGISCHEM')\n",
      "('Affle (India) Limited', 'AFFLE')\n",
      "('Agarwal Industrial Corporation Limited', 'AGARIND')\n",
      "('AGC Networks Limited', 'AGCNET')\n",
      "('Agri-Tech (India) Limited', 'AGRITECH')\n",
      "('Agro Phos India Limited', 'AGROPHOS')\n",
      "('Asian Hotels (East) Limited', 'AHLEAST')\n",
      "('Ahluwalia Contracts (India) Limited', 'AHLUCONT')\n",
      "('Asian Hotels (West) Limited', 'AHLWEST')\n",
      "('AIA Engineering Limited', 'AIAENG')\n",
      "('Monnet Ispat & Energy Limited', 'AIONJSW')\n",
      "('Airan Limited', 'AIRAN')\n",
      "('Ajanta Pharma Limited', 'AJANTPHARM')\n",
      "('Ajmera Realty & Infra India Limited', 'AJMERA')\n",
      "('Akash Infra-Projects Limited', 'AKASH')\n",
      "('AksharChem India Limited', 'AKSHARCHEM')\n",
      "('Aksh Optifibre Limited', 'AKSHOPTFBR')\n",
      "('Akzo Nobel India Limited', 'AKZOINDIA')\n",
      "('Alankit Limited', 'ALANKIT')\n",
      "('Albert David Limited', 'ALBERTDAVD')\n",
      "('Alchemist Limited', 'ALCHEM')\n",
      "('Alembic Limited', 'ALEMBICLTD')\n",
      "('Alicon Castalloy Limited', 'ALICON')\n",
      "('Alkali Metals Limited', 'ALKALI')\n",
      "('Alkem Laboratories Limited', 'ALKEM')\n",
      "('Alkyl Amines Chemicals Limited', 'ALKYLAMINE')\n",
      "('Allcargo Logistics Limited', 'ALLCARGO')\n",
      "('Allsec Technologies Limited', 'ALLSEC')\n",
      "('Almondz Global Securities Limited', 'ALMONDZ')\n",
      "('Alok Industries Limited', 'ALOKINDS')\n",
      "('Alpa Laboratories Limited', 'ALPA')\n",
      "('Alphageo (India) Limited', 'ALPHAGEO')\n",
      "('Alps Industries Limited', 'ALPSINDUS')\n",
      "('Amara Raja Batteries Limited', 'AMARAJABAT')\n",
      "('Amber Enterprises India Limited', 'AMBER')\n",
      "('Ambika Cotton Mills Limited', 'AMBIKCO')\n",
      "('Ambuja Cements Limited', 'AMBUJACEM')\n",
      "('AMD Industries Limited', 'AMDIND')\n",
      "('Amj Land Holdings Limited', 'AMJLAND')\n",
      "('Amrutanjan Health Care Limited', 'AMRUTANJAN')\n",
      "('Anant Raj Limited', 'ANANTRAJ')\n",
      "('Andhra Cements Limited', 'ANDHRACEMT')\n",
      "('ANDHRA PAPER LIMITED', 'ANDHRAPAP')\n",
      "('The Andhra Sugars Limited', 'ANDHRSUGAR')\n",
      "('Anik Industries Limited', 'ANIKINDS')\n",
      "('Ankit Metal & Power Limited', 'ANKITMETAL')\n",
      "('Ansal Properties & Infrastructure Limited', 'ANSALAPI')\n",
      "('Ansal Housing Limited', 'ANSALHSG')\n",
      "('The Anup Engineering Limited', 'ANUP')\n",
      "('Apar Industries Limited', 'APARINDS')\n",
      "('Anjani Portland Cement Limited', 'APCL')\n",
      "('Apcotex Industries Limited', 'APCOTEXIND')\n",
      "('Apex Frozen Foods Limited', 'APEX')\n",
      "('APL Apollo Tubes Limited', 'APLAPOLLO')\n",
      "('Alembic Pharmaceuticals Limited', 'APLLTD')\n",
      "('Apollo Micro Systems Limited', 'APOLLO')\n",
      "('Apollo Hospitals Enterprise Limited', 'APOLLOHOSP')\n",
      "('Apollo Pipes Limited', 'APOLLOPIPE')\n",
      "('Apollo Tyres Limited', 'APOLLOTYRE')\n",
      "('Apollo Sindoori Hotels Limited', 'APOLSINHOT')\n",
      "('Aptech Limited', 'APTECHT')\n",
      "('Archidply Industries Limited', 'ARCHIDPLY')\n",
      "('Archies Limited', 'ARCHIES')\n",
      "('Arcotech Limited', 'ARCOTECH')\n",
      "('Rajdarshan Industries Limited', 'ARENTERP')\n"
     ]
    }
   ],
   "source": [
    "import nsepy as nse \n",
    "from nsetools import Nse\n",
    "nsel = Nse()\n",
    "stock_list = nsel.get_stock_codes()\n",
    "# Get the stock list\n",
    "stock_list= {v: k for k, v in stock_list.items()}\n",
    "iterator = iter(stock_list.items())\n",
    "for i in range(100):\n",
    "    print(next(iterator))\n"
   ]
  },
  {
   "cell_type": "code",
   "execution_count": 3,
   "metadata": {},
   "outputs": [
    {
     "name": "stdout",
     "output_type": "stream",
     "text": [
      "Enter the number of company:\t1\n",
      "Enter the Company to Predict:\tANUP\n"
     ]
    }
   ],
   "source": [
    "number_of_company = int(input('Entert the number of company:\\t'))\n",
    "company_list =[]\n",
    "for _ in range(number_of_company):\n",
    "    name = input('Enter the Company to Predict\\t:\\t')\n",
    "    company_list.append(name)\n",
    "numbered = list(company_list)"
   ]
  },
  {
   "cell_type": "markdown",
   "metadata": {},
   "source": [
    "Get the historical data"
   ]
  },
  {
   "cell_type": "code",
   "execution_count": 4,
   "metadata": {},
   "outputs": [
    {
     "name": "stdout",
     "output_type": "stream",
     "text": [
      "[           Symbol Series  Prev Close    Open    High     Low    Last   Close  \\\n",
      "Date                                                                           \n",
      "2020-03-02   ANUP     EQ      511.95  519.00  534.90  501.00  515.00  505.40   \n",
      "2020-03-03   ANUP     EQ      505.40  505.80  535.00  504.95  528.00  527.30   \n",
      "2020-03-04   ANUP     EQ      527.30  524.10  535.00  513.00  535.00  526.90   \n",
      "2020-03-05   ANUP     EQ      526.90  528.95  530.05  525.00  525.00  527.00   \n",
      "2020-03-06   ANUP     EQ      527.00  521.80  526.45  495.00  505.00  506.95   \n",
      "2020-03-09   ANUP     EQ      506.95  492.00  498.30  445.30  475.00  482.20   \n",
      "2020-03-11   ANUP     EQ      482.20  495.00  495.00  462.35  471.05  469.70   \n",
      "2020-03-12   ANUP     EQ      469.70  468.00  468.00  403.90  415.00  422.85   \n",
      "2020-03-13   ANUP     EQ      422.85  405.00  448.00  340.10  415.00  419.90   \n",
      "2020-03-16   ANUP     EQ      419.90  418.70  418.70  382.30  385.00  388.75   \n",
      "2020-03-17   ANUP     EQ      388.75  388.05  401.50  388.05  390.00  391.50   \n",
      "2020-03-18   ANUP     EQ      391.50  380.65  391.45  342.35  342.35  348.90   \n",
      "2020-03-19   ANUP     EQ      348.90  348.90  348.90  281.30  302.00  306.25   \n",
      "2020-03-20   ANUP     EQ      306.25  310.05  329.70  285.05  298.00  298.30   \n",
      "2020-03-23   ANUP     EQ      298.30  280.00  290.00  268.50  268.50  268.50   \n",
      "2020-03-24   ANUP     EQ      268.50  250.00  295.00  241.65  241.65  241.65   \n",
      "2020-03-25   ANUP     EQ      241.65  241.10  265.80  225.05  250.00  247.35   \n",
      "2020-03-26   ANUP     EQ      247.35  264.35  272.05  252.00  272.05  272.00   \n",
      "2020-03-27   ANUP     EQ      272.00  275.30  299.20  273.00  299.20  299.20   \n",
      "2020-03-30   ANUP     EQ      299.20  305.00  315.00  276.00  307.00  306.20   \n",
      "2020-03-31   ANUP     EQ      306.20  303.15  334.95  302.00  320.00  325.95   \n",
      "\n",
      "              VWAP  Volume      Turnover  Trades  Deliverable Volume  \\\n",
      "Date                                                                   \n",
      "2020-03-02  509.10   37518  1.910049e+12    4398               28056   \n",
      "2020-03-03  521.81   12579  6.563819e+11     759                8334   \n",
      "2020-03-04  521.59   18812  9.812134e+11    1627               14351   \n",
      "2020-03-05  528.10    3657  1.931268e+11     183                2942   \n",
      "2020-03-06  508.68   17858  9.083931e+11     609               13216   \n",
      "2020-03-09  463.32   70753  3.278123e+12    2343               53968   \n",
      "2020-03-11  476.87   19337  9.221236e+11     759               14384   \n",
      "2020-03-12  418.54   52812  2.210408e+12    1754               45416   \n",
      "2020-03-13  409.93   29144  1.194706e+12    1506               21311   \n",
      "2020-03-16  389.92   12304  4.797569e+11    1017                8041   \n",
      "2020-03-17  393.67    8240  3.243828e+11     587                6256   \n",
      "2020-03-18  366.77   34536  1.266685e+12    1032               29275   \n",
      "2020-03-19  303.83   22309  6.778168e+11    1300               13329   \n",
      "2020-03-20  304.77   26224  7.992246e+11     958               21741   \n",
      "2020-03-23  271.24   11409  3.094609e+11     222               11107   \n",
      "2020-03-24  246.95   19614  4.843766e+11     532               16976   \n",
      "2020-03-25  249.57    7336  1.830871e+11     315                6068   \n",
      "2020-03-26  268.30   11490  3.082807e+11     519                9572   \n",
      "2020-03-27  288.46    7824  2.256924e+11     414                5964   \n",
      "2020-03-30  299.59   10686  3.201414e+11     395                9546   \n",
      "2020-03-31  316.35   12523  3.961635e+11     417               10686   \n",
      "\n",
      "            %Deliverble  \n",
      "Date                     \n",
      "2020-03-02       0.7478  \n",
      "2020-03-03       0.6625  \n",
      "2020-03-04       0.7629  \n",
      "2020-03-05       0.8045  \n",
      "2020-03-06       0.7401  \n",
      "2020-03-09       0.7628  \n",
      "2020-03-11       0.7439  \n",
      "2020-03-12       0.8600  \n",
      "2020-03-13       0.7312  \n",
      "2020-03-16       0.6535  \n",
      "2020-03-17       0.7592  \n",
      "2020-03-18       0.8477  \n",
      "2020-03-19       0.5975  \n",
      "2020-03-20       0.8290  \n",
      "2020-03-23       0.9735  \n",
      "2020-03-24       0.8655  \n",
      "2020-03-25       0.8272  \n",
      "2020-03-26       0.8331  \n",
      "2020-03-27       0.7623  \n",
      "2020-03-30       0.8933  \n",
      "2020-03-31       0.8533  ]\n"
     ]
    }
   ],
   "source": [
    "stock_data = list(company_list)\n",
    "for i in range(number_of_company):\n",
    "    stock_data[i] = nse.get_history(symbol=company_list[i], start=date(2020,3,1), end=date(2020,3,31))\n",
    "print(stock_data)\n"
   ]
  },
  {
   "cell_type": "code",
   "execution_count": 5,
   "metadata": {},
   "outputs": [
    {
     "name": "stdout",
     "output_type": "stream",
     "text": [
      "            Prev Close    Open    High     Low    Last   Close  \\\n",
      "Date                                                             \n",
      "2020-03-02      511.95  519.00  534.90  501.00  515.00  505.40   \n",
      "2020-03-03      505.40  505.80  535.00  504.95  528.00  527.30   \n",
      "2020-03-04      527.30  524.10  535.00  513.00  535.00  526.90   \n",
      "2020-03-05      526.90  528.95  530.05  525.00  525.00  527.00   \n",
      "2020-03-06      527.00  521.80  526.45  495.00  505.00  506.95   \n",
      "2020-03-09      506.95  492.00  498.30  445.30  475.00  482.20   \n",
      "2020-03-11      482.20  495.00  495.00  462.35  471.05  469.70   \n",
      "2020-03-12      469.70  468.00  468.00  403.90  415.00  422.85   \n",
      "2020-03-13      422.85  405.00  448.00  340.10  415.00  419.90   \n",
      "2020-03-16      419.90  418.70  418.70  382.30  385.00  388.75   \n",
      "2020-03-17      388.75  388.05  401.50  388.05  390.00  391.50   \n",
      "2020-03-18      391.50  380.65  391.45  342.35  342.35  348.90   \n",
      "2020-03-19      348.90  348.90  348.90  281.30  302.00  306.25   \n",
      "2020-03-20      306.25  310.05  329.70  285.05  298.00  298.30   \n",
      "2020-03-23      298.30  280.00  290.00  268.50  268.50  268.50   \n",
      "2020-03-24      268.50  250.00  295.00  241.65  241.65  241.65   \n",
      "2020-03-25      241.65  241.10  265.80  225.05  250.00  247.35   \n",
      "2020-03-26      247.35  264.35  272.05  252.00  272.05  272.00   \n",
      "2020-03-27      272.00  275.30  299.20  273.00  299.20  299.20   \n",
      "2020-03-30      299.20  305.00  315.00  276.00  307.00  306.20   \n",
      "2020-03-31      306.20  303.15  334.95  302.00  320.00  325.95   \n",
      "\n",
      "            Deliverable Volume  \n",
      "Date                            \n",
      "2020-03-02               28056  \n",
      "2020-03-03                8334  \n",
      "2020-03-04               14351  \n",
      "2020-03-05                2942  \n",
      "2020-03-06               13216  \n",
      "2020-03-09               53968  \n",
      "2020-03-11               14384  \n",
      "2020-03-12               45416  \n",
      "2020-03-13               21311  \n",
      "2020-03-16                8041  \n",
      "2020-03-17                6256  \n",
      "2020-03-18               29275  \n",
      "2020-03-19               13329  \n",
      "2020-03-20               21741  \n",
      "2020-03-23               11107  \n",
      "2020-03-24               16976  \n",
      "2020-03-25                6068  \n",
      "2020-03-26                9572  \n",
      "2020-03-27                5964  \n",
      "2020-03-30                9546  \n",
      "2020-03-31               10686  \n"
     ]
    }
   ],
   "source": [
    "for each_stock in stock_data:\n",
    "    each_stock.drop(['Trades','Volume','%Deliverble','VWAP','Turnover','Series','Symbol'], axis =1,inplace =True)\n",
    "\n",
    "print(each_stock)    "
   ]
  },
  {
   "attachments": {
    "Capture.PNG": {
     "image/png": "[encoded data removed]"
    }
   },
   "cell_type": "markdown",
   "metadata": {},
   "source": [
    "![Capture.PNG](attachment:Capture.PNG)"
   ]
  },
  {
   "cell_type": "code",
   "execution_count": 6,
   "metadata": {},
   "outputs": [],
   "source": [
    "def calulcate_percent_r(highest_high=None, lowest_low=None, close=None):\n",
    "    try:\n",
    "        williamPcR = (highest_high-close)/(highest_high-lowest_low)\n",
    "        return williamPcR*-100\n",
    "    except ZeroDivisionError:\n",
    "        print(f'Highest high and lowest low cannot be same')"
   ]
  },
  {
   "cell_type": "code",
   "execution_count": 31,
   "metadata": {},
   "outputs": [
    {
     "name": "stdout",
     "output_type": "stream",
     "text": [
      "Index([2020-03-02, 2020-03-03, 2020-03-04, 2020-03-05, 2020-03-06, 2020-03-09,\n",
      "       2020-03-11, 2020-03-12, 2020-03-13, 2020-03-16, 2020-03-17, 2020-03-18,\n",
      "       2020-03-19, 2020-03-20, 2020-03-23, 2020-03-24, 2020-03-25, 2020-03-26,\n",
      "       2020-03-27, 2020-03-30, 2020-03-31],\n",
      "      dtype='object', name='Date')\n"
     ]
    }
   ],
   "source": [
    "close_values = np.array(each_stock['Close'])\n",
    "high_values = np.array(each_stock['High'])\n",
    "low_values = np.array(each_stock['Low'])\n",
    "open_values = np.array(each_stock['Open'])\n",
    "dates = (each_stock.index)\n"
   ]
  },
  {
   "cell_type": "markdown",
   "metadata": {},
   "source": [
    "Divide the data to 14 days for calculation of the % R parameters and test in the rest of the days"
   ]
  },
  {
   "cell_type": "code",
   "execution_count": 32,
   "metadata": {},
   "outputs": [],
   "source": [
    "def calculate_stats_r(start = 0, day_to_check = 14, high_value = None, low_value = None, close_value = None):\n",
    "    print(high_value[start:(start+day_to_check)])\n",
    "\n",
    "    highest_high = max(high_value[start:(start+day_to_check)])\n",
    "    lowest_low = min(low_value[start:(start+day_to_check)])\n",
    "    williams_pc_r=calulcate_percent_r(highest_high=highest_high, lowest_low=lowest_low, close=close_value[start+day_to_check])\n",
    "    #print(f'Highest high is {highest_high}')\n",
    "    #print(f'Lowest low is {lowest_low}')\n",
    "    #print(f'Close value is {close_value[start+day_to_check]}')\n",
    "\n",
    "    return williams_pc_r\n"
   ]
  },
  {
   "cell_type": "code",
   "execution_count": 53,
   "metadata": {},
   "outputs": [
    {
     "name": "stdout",
     "output_type": "stream",
     "text": [
      "[535.   530.05 526.45 498.3  495.   468.   448.   418.7  401.5  391.45\n",
      " 348.9  329.7  290.   295.  ]\n",
      "-98.05692858360318\n"
     ]
    }
   ],
   "source": [
    "# Initial\n",
    "start_day = 0\n",
    "days_to_check = 14\n",
    "start_date_to_check = date(2020,3,4)\n",
    "end_date_to_check = date(2020,3,15)\n",
    "\n",
    "# Get the start and end dates\n",
    "for i in range(len(dates)):\n",
    "    if(start_date_to_check == dates[i]):\n",
    "        start_day = i\n",
    "    if(end_date_to_check == dates[i]):\n",
    "        days_to_check = i\n",
    "        \n",
    "if start_day == 0 and days_to_check == 0:\n",
    "    raise ValueError('Enter a different day')\n",
    "    \n",
    "print(calculate_stats_r(start = start_day, day_to_check = days_to_check, high_value = high_values, low_value = low_values, \n",
    "                        close_value = close_values))"
   ]
  },
  {
   "cell_type": "code",
   "execution_count": 20,
   "metadata": {},
   "outputs": [
    {
     "name": "stdout",
     "output_type": "stream",
     "text": [
      "280.0\n",
      "268.5\n",
      "290.0\n",
      "268.5\n"
     ]
    }
   ],
   "source": []
  },
  {
   "cell_type": "code",
   "execution_count": 21,
   "metadata": {},
   "outputs": [
    {
     "name": "stdout",
     "output_type": "stream",
     "text": [
      "250.0\n",
      "241.65\n",
      "295.0\n",
      "241.65\n"
     ]
    }
   ],
   "source": [
    "print('----------------------------------')\n",
    "print('Day before value')\n",
    "print('----------------------------------')\n",
    "print(open_values[start_day+days_to_check])\n",
    "print(close_values[start_day+days_to_check])\n",
    "print(high_values[start_day+days_to_check])\n",
    "print(low_values[start_day+days_to_check])\n",
    "print('----------------------------------')\n",
    "print('Day after value')\n",
    "print('----------------------------------')\n",
    "print(open_values[start_day+days_to_check+1])\n",
    "print(close_values[start_day+days_to_check+1])\n",
    "print(high_values[start_day+days_to_check+1])\n",
    "print(low_values[start_day+days_to_check+1])"
   ]
  },
  {
   "cell_type": "code",
   "execution_count": null,
   "metadata": {},
   "outputs": [],
   "source": []
  }
 ],
 "metadata": {
  "kernelspec": {
   "display_name": "Python 3",
   "language": "python",
   "name": "python3"
  },
  "language_info": {
   "codemirror_mode": {
    "name": "ipython",
    "version": 3
   },
   "file_extension": ".py",
   "mimetype": "text/x-python",
   "name": "python",
   "nbconvert_exporter": "python",
   "pygments_lexer": "ipython3",
   "version": "3.7.7"
  }
 },
 "nbformat": 4,
 "nbformat_minor": 4
}
